{
  "cells": [
    {
      "cell_type": "code",
      "execution_count": 1,
      "id": "7fbdcdb4",
      "metadata": {
        "id": "7fbdcdb4"
      },
      "outputs": [],
      "source": [
        "import numpy as np\n",
        "import tensorflow as tf\n",
        "from tensorflow.keras.datasets import mnist\n",
        "from tensorflow.keras.models import Sequential\n",
        "from tensorflow.keras.layers import Dense, Flatten\n",
        "from sklearn.model_selection import GridSearchCV\n",
        "from sklearn.base import BaseEstimator\n"
      ]
    },
    {
      "cell_type": "code",
      "execution_count": 3,
      "id": "4b6d1bd4",
      "metadata": {
        "id": "4b6d1bd4"
      },
      "outputs": [],
      "source": [
        "# Load MNIST dataset\n",
        "(X_train, y_train), (X_test, y_test) = mnist.load_data()"
      ]
    },
    {
      "cell_type": "code",
      "execution_count": 4,
      "id": "be1dcf93",
      "metadata": {
        "id": "be1dcf93"
      },
      "outputs": [],
      "source": [
        "# Normalize pixel values\n",
        "X_train, X_test = X_train / 255.0, X_test / 255.0"
      ]
    },
    {
      "cell_type": "code",
      "execution_count": 5,
      "id": "d787076f",
      "metadata": {
        "id": "d787076f"
      },
      "outputs": [],
      "source": [
        "# Define the Keras model\n",
        "def create_model(units=128, activation='relu'):\n",
        "    model = Sequential([\n",
        "        Flatten(input_shape=(28, 28)),\n",
        "        Dense(units, activation=activation),\n",
        "        Dense(10, activation='softmax')\n",
        "    ])\n",
        "    model.compile(optimizer='adam', loss='sparse_categorical_crossentropy', metrics=['accuracy'])\n",
        "    return model"
      ]
    },
    {
      "cell_type": "code",
      "execution_count": 6,
      "id": "aca8401f",
      "metadata": {
        "id": "aca8401f"
      },
      "outputs": [],
      "source": [
        "# Define a custom wrapper class for Keras model\n",
        "class KerasClassifierWrapper(BaseEstimator):\n",
        "    def __init__(self, units=128, activation='relu'):\n",
        "        self.units = units\n",
        "        self.activation = activation\n",
        "\n",
        "    def fit(self, X, y):\n",
        "        self.model = create_model(self.units, self.activation)\n",
        "        self.model.fit(X, y, epochs=5, verbose=0)\n",
        "        return self\n",
        "\n",
        "    def predict(self, X):\n",
        "        return np.argmax(self.model.predict(X), axis=-1)\n",
        "\n",
        "    def score(self, X, y):\n",
        "        _, accuracy = self.model.evaluate(X, y, verbose=0)\n",
        "        return accuracy"
      ]
    },
    {
      "cell_type": "code",
      "execution_count": 7,
      "id": "498bdf9b",
      "metadata": {
        "id": "498bdf9b"
      },
      "outputs": [],
      "source": [
        "# Define hyperparameters for tuning\n",
        "param_grid = {\n",
        "    'units': [64, 128, 256],\n",
        "    'activation': ['relu', 'sigmoid']\n",
        "}\n"
      ]
    },
    {
      "cell_type": "code",
      "execution_count": 8,
      "id": "cdf6c540",
      "metadata": {
        "id": "cdf6c540"
      },
      "outputs": [],
      "source": [
        "# Create a GridSearchCV object\n",
        "grid = GridSearchCV(estimator=KerasClassifierWrapper(), param_grid=param_grid, cv=3)"
      ]
    },
    {
      "cell_type": "code",
      "execution_count": 9,
      "id": "298a67a9",
      "metadata": {
        "colab": {
          "base_uri": "https://localhost:8080/",
          "height": 0
        },
        "id": "298a67a9",
        "outputId": "3c5acb28-da10-49ab-baf2-34e1658f5fec"
      },
      "outputs": [
        {
          "output_type": "stream",
          "name": "stderr",
          "text": [
            "/usr/local/lib/python3.10/dist-packages/keras/src/layers/reshaping/flatten.py:37: UserWarning: Do not pass an `input_shape`/`input_dim` argument to a layer. When using Sequential models, prefer using an `Input(shape)` object as the first layer in the model instead.\n",
            "  super().__init__(**kwargs)\n"
          ]
        }
      ],
      "source": [
        "# Perform grid search\n",
        "grid_result = grid.fit(X_train, y_train)"
      ]
    },
    {
      "cell_type": "code",
      "execution_count": 10,
      "id": "80b44af6",
      "metadata": {
        "colab": {
          "base_uri": "https://localhost:8080/",
          "height": 0
        },
        "id": "80b44af6",
        "outputId": "ae6ef4db-01dd-4a48-8ad1-cc42045323c4"
      },
      "outputs": [
        {
          "output_type": "stream",
          "name": "stdout",
          "text": [
            "Best: 0.972850 using {'activation': 'relu', 'units': 256}\n",
            "0.964150 (0.000668) with: {'activation': 'relu', 'units': 64}\n",
            "0.970017 (0.001661) with: {'activation': 'relu', 'units': 128}\n",
            "0.972850 (0.000424) with: {'activation': 'relu', 'units': 256}\n",
            "0.951867 (0.001438) with: {'activation': 'sigmoid', 'units': 64}\n",
            "0.959133 (0.001074) with: {'activation': 'sigmoid', 'units': 128}\n",
            "0.963633 (0.001625) with: {'activation': 'sigmoid', 'units': 256}\n"
          ]
        }
      ],
      "source": [
        "# Summarize results\n",
        "print(\"Best: %f using %s\" % (grid_result.best_score_, grid_result.best_params_))\n",
        "means = grid_result.cv_results_['mean_test_score']\n",
        "stds = grid_result.cv_results_['std_test_score']\n",
        "params = grid_result.cv_results_['params']\n",
        "for mean, stdev, param in zip(means, stds, params):\n",
        "    print(\"%f (%f) with: %r\" % (mean, stdev, param))"
      ]
    },
    {
      "cell_type": "code",
      "execution_count": null,
      "id": "d0a17d4e",
      "metadata": {
        "id": "d0a17d4e"
      },
      "outputs": [],
      "source": []
    }
  ],
  "metadata": {
    "kernelspec": {
      "display_name": "Python 3 (ipykernel)",
      "language": "python",
      "name": "python3"
    },
    "language_info": {
      "codemirror_mode": {
        "name": "ipython",
        "version": 3
      },
      "file_extension": ".py",
      "mimetype": "text/x-python",
      "name": "python",
      "nbconvert_exporter": "python",
      "pygments_lexer": "ipython3",
      "version": "3.11.5"
    },
    "colab": {
      "provenance": []
    }
  },
  "nbformat": 4,
  "nbformat_minor": 5
}